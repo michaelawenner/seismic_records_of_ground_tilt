{
 "cells": [
  {
   "cell_type": "markdown",
   "metadata": {
    "toc": true
   },
   "source": [
    "<h1>Table of Contents<span class=\"tocSkip\"></span></h1>\n",
    "<div class=\"toc\"><ul class=\"toc-item\"><li><span><a href=\"#Seismometer-records-of-ground-tilt-induced-by-debris-flows\" data-toc-modified-id=\"Seismometer-records-of-ground-tilt-induced-by-debris-flows-1\"><span class=\"toc-item-num\">1&nbsp;&nbsp;</span>Seismometer records of ground tilt induced by debris flows</a></span></li><li><span><a href=\"#Code\" data-toc-modified-id=\"Code-2\"><span class=\"toc-item-num\">2&nbsp;&nbsp;</span>Code</a></span><ul class=\"toc-item\"><li><span><a href=\"#Convert-seismic-data-to-tilt\" data-toc-modified-id=\"Convert-seismic-data-to-tilt-2.1\"><span class=\"toc-item-num\">2.1&nbsp;&nbsp;</span>Convert seismic data to tilt</a></span></li></ul></li></ul></div>"
   ]
  },
  {
   "cell_type": "markdown",
   "metadata": {},
   "source": [
    "# Seismometer records of ground tilt induced by debris flows \n",
    "Code by Michaela Wenner, publication submitted to BSSA\n",
    "\n",
    "**ABSTRACT**\n",
    "\n",
    "A change in surface loading causes the Earth’s surface to deform. Mass movements, such as\n",
    "debris flows, can cause a tilt large enough to be recorded by nearby instruments, but the signal\n",
    "is strongly dependent on the mass loading and sub-surface parameters. Specifically designed\n",
    "sensors for such measurements (tiltmeters) are cumbersome to install. Alternatively, broadband\n",
    "seismometers record, in addition to translational motion, tilt signals at periods of tens to hundreds\n",
    "of seconds, with the horizontal components most sensitive to tilt. In this study, we show how to\n",
    "obtain tilt caused by the passing-by of debris flows from seismic measurements recorded within\n",
    "tens of meters of the flow and investigate the usefulness of this signal for flow characterization. We\n",
    "investigate the problem on three scale 1) large-scale laboratory experiments at the U.S. Geological\n",
    "Survey debris-flow flume, where broadband seismometers and tiltmeters were installed for six\n",
    "8-10 m3 experiments, 2) the Illgraben torrent in Switzerland, one of the most active mass wasting\n",
    "sites in the European Alps, where a broadband seismometer placed within a few meters of the\n",
    "channel recorded 15 debris-flow events with volumes up to 105 m3, and 3) Volc ́an de Fuego,\n",
    "Guatemala, where a broadband seismometer recorded two lahars. We investigate how the tilt\n",
    "signals compare to debris-flow parameters such as mean normal stresses, usually measured by\n",
    "expensive force plates, and debris-flow height. We model the elastic ground deformation as the\n",
    "response of an elastic half-space to a moving surface load. Additionally, we use the model with\n",
    "some simplifications to determine maximum debris-flow heights of Volca ́n de Fuego events, where\n",
    "no force-plate measurements are available. Finally, we address how and under what assumptions\n",
    "the relatively affordable and straightforward tilt measurements may be utilized to infer debris-flow\n",
    "parameters, as opposed to force plates and other complicated instrument setups."
   ]
  },
  {
   "cell_type": "markdown",
   "metadata": {},
   "source": [
    "# Code"
   ]
  },
  {
   "cell_type": "code",
   "execution_count": 1,
   "metadata": {},
   "outputs": [],
   "source": [
    "%matplotlib notebook\n",
    "import matplotlib.pyplot as plt\n",
    "import numpy as np\n",
    "import pandas as pd\n",
    "import obspy\n",
    "from scipy import signal\n",
    "import matplotlib\n",
    "import seaborn as sns\n",
    "import matplotlib.colors as colors\n",
    "import matplotlib.ticker as ticker\n",
    "import matplotlib.image as mpimg\n",
    "from matplotlib.lines import Line2D\n",
    "matplotlib.rcParams.update({'font.size': 14})"
   ]
  },
  {
   "cell_type": "code",
   "execution_count": 11,
   "metadata": {},
   "outputs": [],
   "source": [
    "# Helper functions\n",
    "def moving_average(x, w):\n",
    "    return np.convolve(x, np.ones(w), 'valid') / w\n",
    "\n",
    "class tilt():\n",
    "    def __init__(self, t, loc):\n",
    "        year = t.year\n",
    "        self.time = t\n",
    "        if loc == 'Illgraben':\n",
    "            if t.year == 2020:\n",
    "                channel = \"HH*\"\n",
    "            else:\n",
    "                channel = \"BH*\"\n",
    "            self.stream = obspy.read(f'/Users/michiwen/Desktop/{year}/ILL11/{channel}.D/*{self.time.julday}')\n",
    "\n",
    "            if t.hour > 21:\n",
    "                self.stream += obspy.read(f'/Users/michiwen/Desktop/{year}/ILL11/{channel}.D/*{self.time.julday + 1}') \n",
    "            elif t.hour < 2:\n",
    "                self.stream += obspy.read(f'/Users/michiwen/Desktop/{year}/ILL11/{channel}.D/*{self.time.julday - 1}') \n",
    "            self.stream.merge(fill_value='interpolate')\n",
    "            self.inventory = obspy.read_inventory('../data/illgraben_seismic_data/response/ILL11_inventory.xml')   \n",
    "            self.stream.attach_response(self.inventory)\n",
    "        elif loc == 'USGS':\n",
    "            from obspy.clients.fdsn import Client\n",
    "            client = Client(\"IRIS\")\n",
    "            self.stream = client.get_waveforms(\"ZK\", \"E02\", \"*\", \"C*\", self.time - 400, self.time + 400, attach_response=True)"
   ]
  },
  {
   "cell_type": "code",
   "execution_count": 3,
   "metadata": {},
   "outputs": [],
   "source": [
    "# Get general information on all tilt events\n",
    "info = pd.read_csv(\"../data/00_info_tilt_events.csv\")"
   ]
  },
  {
   "cell_type": "markdown",
   "metadata": {},
   "source": [
    "## Convert seismic data to tilt"
   ]
  },
  {
   "cell_type": "code",
   "execution_count": 9,
   "metadata": {},
   "outputs": [],
   "source": [
    "# Get information from info file\n",
    "loc = \"Illgraben\" # Set location\n",
    "df = info[info['location'] == loc].copy().reset_index() "
   ]
  },
  {
   "cell_type": "code",
   "execution_count": 5,
   "metadata": {},
   "outputs": [],
   "source": [
    "def tilt_below_fc(st, inv, filt):\n",
    "    \"\"\"\n",
    "    Get tilt for frequencies below corner frequency (after Aoyama 2008)\n",
    "    :param st: Stream containing horizontal and vertical compontents\n",
    "    :type st: obspy.core.stream.Stream\n",
    "    :param inv: Inventory containing belonging instrument responses\n",
    "    :type inv: obspy.core.inventory.inventory.Inventory\n",
    "    :return: obspy Stream containing rotatet seismic data converted to tilt in microradians\n",
    "    \"\"\"\n",
    "    st1 = st.copy()\n",
    "    #st1.rotate(method='->ZNE', inventory=inv)\n",
    "    #st1.rotate('NE->RT', back_azimuth=55.+180.).detrend('demean')\n",
    "    fc = 1/120 # Corner frequency in Hz\n",
    "    w0 = 2 * np.pi * fc\n",
    "    sens = 1/st1[0].stats.response.instrument_sensitivity.value\n",
    "    \n",
    "    g = -9.81\n",
    "    st1.integrate()\n",
    "    if filt =='bandpass':\n",
    "        st1.filter('bandpass', freqmin = 1/(5*60), freqmax=1/120, corners=2, zerophase=True)\n",
    "    elif filt == 'lowpass':\n",
    "        st1.filter('lowpass', freq = 1/120, corners=2, zerophase=True)\n",
    "    \n",
    "    st1.detrend('demean')\n",
    "    st1.detrend('linear')\n",
    "    #st1.filter('lowpass', freq = 1/10, corners=2, zerophase=True)\n",
    "    fac = (sens*(w0**2))/ g\n",
    "    for tr in st1:\n",
    "        tr.data = fac *tr.data *1e6\n",
    "    return st1"
   ]
  },
  {
   "cell_type": "code",
   "execution_count": 12,
   "metadata": {},
   "outputs": [
    {
     "name": "stdout",
     "output_type": "stream",
     "text": [
      "Illgraben, Event: 2018-06-11T10:38:41.000000Z\n"
     ]
    },
    {
     "ename": "Exception",
     "evalue": "No file matching file pattern: /Users/michiwen/Desktop/2018/ILL11/BH*.D/*162",
     "output_type": "error",
     "traceback": [
      "\u001b[0;31m---------------------------------------------------------------------------\u001b[0m",
      "\u001b[0;31mException\u001b[0m                                 Traceback (most recent call last)",
      "\u001b[0;32m<ipython-input-12-9fd9bdfb5a63>\u001b[0m in \u001b[0;36m<module>\u001b[0;34m\u001b[0m\n\u001b[1;32m      7\u001b[0m     \u001b[0mt\u001b[0m \u001b[0;34m=\u001b[0m \u001b[0mobspy\u001b[0m\u001b[0;34m.\u001b[0m\u001b[0mUTCDateTime\u001b[0m\u001b[0;34m(\u001b[0m\u001b[0mrow\u001b[0m\u001b[0;34m[\u001b[0m\u001b[0;34m'time'\u001b[0m\u001b[0;34m]\u001b[0m\u001b[0;34m)\u001b[0m\u001b[0;34m\u001b[0m\u001b[0;34m\u001b[0m\u001b[0m\n\u001b[1;32m      8\u001b[0m     \u001b[0mprint\u001b[0m\u001b[0;34m(\u001b[0m\u001b[0;34mf\"{loc}, Event: {t}\"\u001b[0m\u001b[0;34m)\u001b[0m\u001b[0;34m\u001b[0m\u001b[0;34m\u001b[0m\u001b[0m\n\u001b[0;32m----> 9\u001b[0;31m     \u001b[0mti\u001b[0m \u001b[0;34m=\u001b[0m \u001b[0mtilt\u001b[0m\u001b[0;34m(\u001b[0m\u001b[0mt\u001b[0m\u001b[0;34m,\u001b[0m \u001b[0mloc\u001b[0m\u001b[0;34m)\u001b[0m\u001b[0;34m\u001b[0m\u001b[0;34m\u001b[0m\u001b[0m\n\u001b[0m\u001b[1;32m     10\u001b[0m     \u001b[0mprint\u001b[0m\u001b[0;34m(\u001b[0m\u001b[0mti\u001b[0m\u001b[0;34m.\u001b[0m\u001b[0mstream\u001b[0m\u001b[0;34m)\u001b[0m\u001b[0;34m\u001b[0m\u001b[0;34m\u001b[0m\u001b[0m\n\u001b[1;32m     11\u001b[0m     \u001b[0mst\u001b[0m \u001b[0;34m=\u001b[0m \u001b[0mti\u001b[0m\u001b[0;34m.\u001b[0m\u001b[0mstream\u001b[0m\u001b[0;34m.\u001b[0m\u001b[0mcopy\u001b[0m\u001b[0;34m(\u001b[0m\u001b[0;34m)\u001b[0m\u001b[0;34m\u001b[0m\u001b[0;34m\u001b[0m\u001b[0m\n",
      "\u001b[0;32m<ipython-input-11-68cecbb6ef30>\u001b[0m in \u001b[0;36m__init__\u001b[0;34m(self, t, loc)\u001b[0m\n\u001b[1;32m     12\u001b[0m             \u001b[0;32melse\u001b[0m\u001b[0;34m:\u001b[0m\u001b[0;34m\u001b[0m\u001b[0;34m\u001b[0m\u001b[0m\n\u001b[1;32m     13\u001b[0m                 \u001b[0mchannel\u001b[0m \u001b[0;34m=\u001b[0m \u001b[0;34m\"BH*\"\u001b[0m\u001b[0;34m\u001b[0m\u001b[0;34m\u001b[0m\u001b[0m\n\u001b[0;32m---> 14\u001b[0;31m             \u001b[0mself\u001b[0m\u001b[0;34m.\u001b[0m\u001b[0mstream\u001b[0m \u001b[0;34m=\u001b[0m \u001b[0mobspy\u001b[0m\u001b[0;34m.\u001b[0m\u001b[0mread\u001b[0m\u001b[0;34m(\u001b[0m\u001b[0;34mf'/Users/michiwen/Desktop/{year}/ILL11/{channel}.D/*{self.time.julday}'\u001b[0m\u001b[0;34m)\u001b[0m\u001b[0;34m\u001b[0m\u001b[0;34m\u001b[0m\u001b[0m\n\u001b[0m\u001b[1;32m     15\u001b[0m \u001b[0;34m\u001b[0m\u001b[0m\n\u001b[1;32m     16\u001b[0m             \u001b[0;32mif\u001b[0m \u001b[0mt\u001b[0m\u001b[0;34m.\u001b[0m\u001b[0mhour\u001b[0m \u001b[0;34m>\u001b[0m \u001b[0;36m21\u001b[0m\u001b[0;34m:\u001b[0m\u001b[0;34m\u001b[0m\u001b[0;34m\u001b[0m\u001b[0m\n",
      "\u001b[0;32m<decorator-gen-147>\u001b[0m in \u001b[0;36mread\u001b[0;34m(pathname_or_url, format, headonly, starttime, endtime, nearest_sample, dtype, apply_calib, check_compression, **kwargs)\u001b[0m\n",
      "\u001b[0;32m~/anaconda3/envs/obspy/lib/python3.7/site-packages/obspy/core/util/decorator.py\u001b[0m in \u001b[0;36m_map_example_filename\u001b[0;34m(func, *args, **kwargs)\u001b[0m\n\u001b[1;32m    298\u001b[0m                         \u001b[0;32mexcept\u001b[0m \u001b[0mIOError\u001b[0m\u001b[0;34m:\u001b[0m\u001b[0;34m\u001b[0m\u001b[0;34m\u001b[0m\u001b[0m\n\u001b[1;32m    299\u001b[0m                             \u001b[0;32mpass\u001b[0m\u001b[0;34m\u001b[0m\u001b[0;34m\u001b[0m\u001b[0m\n\u001b[0;32m--> 300\u001b[0;31m         \u001b[0;32mreturn\u001b[0m \u001b[0mfunc\u001b[0m\u001b[0;34m(\u001b[0m\u001b[0;34m*\u001b[0m\u001b[0margs\u001b[0m\u001b[0;34m,\u001b[0m \u001b[0;34m**\u001b[0m\u001b[0mkwargs\u001b[0m\u001b[0;34m)\u001b[0m\u001b[0;34m\u001b[0m\u001b[0;34m\u001b[0m\u001b[0m\n\u001b[0m\u001b[1;32m    301\u001b[0m     \u001b[0;32mreturn\u001b[0m \u001b[0m_map_example_filename\u001b[0m\u001b[0;34m\u001b[0m\u001b[0;34m\u001b[0m\u001b[0m\n\u001b[1;32m    302\u001b[0m \u001b[0;34m\u001b[0m\u001b[0m\n",
      "\u001b[0;32m~/anaconda3/envs/obspy/lib/python3.7/site-packages/obspy/core/stream.py\u001b[0m in \u001b[0;36mread\u001b[0;34m(pathname_or_url, format, headonly, starttime, endtime, nearest_sample, dtype, apply_calib, check_compression, **kwargs)\u001b[0m\n\u001b[1;32m    210\u001b[0m         \u001b[0mst\u001b[0m \u001b[0;34m=\u001b[0m \u001b[0m_create_example_stream\u001b[0m\u001b[0;34m(\u001b[0m\u001b[0mheadonly\u001b[0m\u001b[0;34m=\u001b[0m\u001b[0mheadonly\u001b[0m\u001b[0;34m)\u001b[0m\u001b[0;34m\u001b[0m\u001b[0;34m\u001b[0m\u001b[0m\n\u001b[1;32m    211\u001b[0m     \u001b[0;32melse\u001b[0m\u001b[0;34m:\u001b[0m\u001b[0;34m\u001b[0m\u001b[0;34m\u001b[0m\u001b[0m\n\u001b[0;32m--> 212\u001b[0;31m         \u001b[0mst\u001b[0m \u001b[0;34m=\u001b[0m \u001b[0m_generic_reader\u001b[0m\u001b[0;34m(\u001b[0m\u001b[0mpathname_or_url\u001b[0m\u001b[0;34m,\u001b[0m \u001b[0m_read\u001b[0m\u001b[0;34m,\u001b[0m \u001b[0;34m**\u001b[0m\u001b[0mkwargs\u001b[0m\u001b[0;34m)\u001b[0m\u001b[0;34m\u001b[0m\u001b[0;34m\u001b[0m\u001b[0m\n\u001b[0m\u001b[1;32m    213\u001b[0m \u001b[0;34m\u001b[0m\u001b[0m\n\u001b[1;32m    214\u001b[0m     \u001b[0;32mif\u001b[0m \u001b[0mlen\u001b[0m\u001b[0;34m(\u001b[0m\u001b[0mst\u001b[0m\u001b[0;34m)\u001b[0m \u001b[0;34m==\u001b[0m \u001b[0;36m0\u001b[0m\u001b[0;34m:\u001b[0m\u001b[0;34m\u001b[0m\u001b[0;34m\u001b[0m\u001b[0m\n",
      "\u001b[0;32m~/anaconda3/envs/obspy/lib/python3.7/site-packages/obspy/core/util/base.py\u001b[0m in \u001b[0;36m_generic_reader\u001b[0;34m(pathname_or_url, callback_func, **kwargs)\u001b[0m\n\u001b[1;32m    696\u001b[0m             \u001b[0;31m# try to give more specific information why the stream is empty\u001b[0m\u001b[0;34m\u001b[0m\u001b[0;34m\u001b[0m\u001b[0;34m\u001b[0m\u001b[0m\n\u001b[1;32m    697\u001b[0m             \u001b[0;32mif\u001b[0m \u001b[0mglob\u001b[0m\u001b[0;34m.\u001b[0m\u001b[0mhas_magic\u001b[0m\u001b[0;34m(\u001b[0m\u001b[0mpathname\u001b[0m\u001b[0;34m)\u001b[0m \u001b[0;32mand\u001b[0m \u001b[0;32mnot\u001b[0m \u001b[0mglob\u001b[0m\u001b[0;34m.\u001b[0m\u001b[0mglob\u001b[0m\u001b[0;34m(\u001b[0m\u001b[0mpathname\u001b[0m\u001b[0;34m)\u001b[0m\u001b[0;34m:\u001b[0m\u001b[0;34m\u001b[0m\u001b[0;34m\u001b[0m\u001b[0m\n\u001b[0;32m--> 698\u001b[0;31m                 \u001b[0;32mraise\u001b[0m \u001b[0mException\u001b[0m\u001b[0;34m(\u001b[0m\u001b[0;34m\"No file matching file pattern: %s\"\u001b[0m \u001b[0;34m%\u001b[0m \u001b[0mpathname\u001b[0m\u001b[0;34m)\u001b[0m\u001b[0;34m\u001b[0m\u001b[0;34m\u001b[0m\u001b[0m\n\u001b[0m\u001b[1;32m    699\u001b[0m             \u001b[0;32melif\u001b[0m \u001b[0;32mnot\u001b[0m \u001b[0mglob\u001b[0m\u001b[0;34m.\u001b[0m\u001b[0mhas_magic\u001b[0m\u001b[0;34m(\u001b[0m\u001b[0mpathname\u001b[0m\u001b[0;34m)\u001b[0m \u001b[0;32mand\u001b[0m \u001b[0;32mnot\u001b[0m \u001b[0mos\u001b[0m\u001b[0;34m.\u001b[0m\u001b[0mpath\u001b[0m\u001b[0;34m.\u001b[0m\u001b[0misfile\u001b[0m\u001b[0;34m(\u001b[0m\u001b[0mpathname\u001b[0m\u001b[0;34m)\u001b[0m\u001b[0;34m:\u001b[0m\u001b[0;34m\u001b[0m\u001b[0;34m\u001b[0m\u001b[0m\n\u001b[1;32m    700\u001b[0m                 \u001b[0;32mraise\u001b[0m \u001b[0mIOError\u001b[0m\u001b[0;34m(\u001b[0m\u001b[0;36m2\u001b[0m\u001b[0;34m,\u001b[0m \u001b[0;34m\"No such file or directory\"\u001b[0m\u001b[0;34m,\u001b[0m \u001b[0mpathname\u001b[0m\u001b[0;34m)\u001b[0m\u001b[0;34m\u001b[0m\u001b[0;34m\u001b[0m\u001b[0m\n",
      "\u001b[0;31mException\u001b[0m: No file matching file pattern: /Users/michiwen/Desktop/2018/ILL11/BH*.D/*162"
     ]
    }
   ],
   "source": [
    "# Define window length of data\n",
    "tc = 3600 # 3x3600s will be taken from data\n",
    "station = \"ILL11\"\n",
    "\n",
    "for idx, row in df.iterrows(): \n",
    "    # Read data files and preprocess data\n",
    "    t = obspy.UTCDateTime(row['time'])\n",
    "    print(f\"{loc}, Event: {t}\")\n",
    "    ti = tilt(t, loc)\n",
    "    print(ti.stream)\n",
    "    st = ti.stream.copy()\n",
    "    st.trim(t - 1*tc, t + 2*tc)\n",
    "    st.copy().write(f'../data/{loc}_seismic_data/trimmed_data/{loc}_{t.isoformat()}_signal.mseed', format='MSEED')\n",
    "    # Downsample to one sample\n",
    "    st.resample(1)\n",
    "    # Get sensitivitz\n",
    "    sens = st[0].stats.response.instrument_sensitivity.value\n",
    "\n",
    "    # Demean/taper\n",
    "    st.merge(fill_value='interpolate')\n",
    "    st.detrend('demean')\n",
    "    st.detrend('linear')\n",
    "    st.taper(0.01)\n",
    "\n",
    "    # Get tilt\n",
    "    filt = 'bandpass'\n",
    "    st1 = tilt_below_fc(st, ti.inventory, filt)\n",
    "    \n",
    "    # Only save radial component\n",
    "    tra = st1[0].copy()\n",
    "    tra.write(f'../data/{loc}_tilt_data/{loc}_{t.isoformat()}_tilt.mseed', format='MSEED')\n"
   ]
  },
  {
   "cell_type": "code",
   "execution_count": 8,
   "metadata": {},
   "outputs": [],
   "source": []
  },
  {
   "cell_type": "code",
   "execution_count": null,
   "metadata": {},
   "outputs": [],
   "source": []
  }
 ],
 "metadata": {
  "kernelspec": {
   "display_name": "Python 3",
   "language": "python",
   "name": "python3"
  },
  "language_info": {
   "codemirror_mode": {
    "name": "ipython",
    "version": 3
   },
   "file_extension": ".py",
   "mimetype": "text/x-python",
   "name": "python",
   "nbconvert_exporter": "python",
   "pygments_lexer": "ipython3",
   "version": "3.7.8"
  },
  "toc": {
   "base_numbering": 1,
   "nav_menu": {},
   "number_sections": true,
   "sideBar": true,
   "skip_h1_title": false,
   "title_cell": "Table of Contents",
   "title_sidebar": "Contents",
   "toc_cell": true,
   "toc_position": {},
   "toc_section_display": true,
   "toc_window_display": true
  }
 },
 "nbformat": 4,
 "nbformat_minor": 4
}
